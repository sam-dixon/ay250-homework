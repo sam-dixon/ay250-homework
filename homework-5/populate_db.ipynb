{
 "cells": [
  {
   "cell_type": "code",
   "execution_count": 1,
   "metadata": {
    "collapsed": true
   },
   "outputs": [],
   "source": [
    "import numpy as np\n",
    "import pandas as pd\n",
    "from sqlalchemy import *\n",
    "import requests\n",
    "from io import StringIO\n",
    "from tqdm import tqdm"
   ]
  },
  {
   "cell_type": "markdown",
   "metadata": {},
   "source": [
    "First get airport data by merging the top airports with the ICAO airport data"
   ]
  },
  {
   "cell_type": "code",
   "execution_count": 2,
   "metadata": {
    "collapsed": false
   },
   "outputs": [],
   "source": [
    "top = pd.read_csv('hw_5_data/top_airports.csv')\n",
    "icao = pd.read_csv('hw_5_data/ICAO_airports.csv')\n",
    "top_info = pd.merge(top, icao, left_on='ICAO', right_on='ident')\n",
    "engine = create_engine('sqlite:///airports.db')\n",
    "top_info.to_sql('airports', engine)"
   ]
  },
  {
   "cell_type": "markdown",
   "metadata": {},
   "source": [
    "Create a new table in the database to hold all the weather data"
   ]
  },
  {
   "cell_type": "code",
   "execution_count": 3,
   "metadata": {
    "collapsed": false
   },
   "outputs": [],
   "source": [
    "metadata = MetaData()\n",
    "weather_table = Table('weather', metadata,\n",
    "                      Column('icao', String),\n",
    "                      Column('date', String),\n",
    "                      Column('min_temp', String),\n",
    "                      Column('max_temp', String),\n",
    "                      Column('mean_temp', String),\n",
    "                      Column('min_humidity', String),\n",
    "                      Column('max_humidity', String),\n",
    "                      Column('mean_humidity', String),\n",
    "                      Column('precip', String),\n",
    "                      Column('event', String))\n",
    "weather_table.create(bind=engine)"
   ]
  },
  {
   "cell_type": "markdown",
   "metadata": {},
   "source": [
    "This is a webscraper function. Weather Underground provides csv files for up to a year of weather. To get 8 years of data, we need to loop over each year individually."
   ]
  },
  {
   "cell_type": "code",
   "execution_count": 4,
   "metadata": {
    "collapsed": false
   },
   "outputs": [],
   "source": [
    "def get_weather(icao):\n",
    "    base_url = 'https://www.wunderground.com/history/airport/'+icao.upper()\n",
    "    df = None\n",
    "    for year in range(2008, 2016):\n",
    "        url = base_url+'/{0}/10/1/CustomHistory.html'.format(year)\n",
    "        params = {'dayend': 1, 'monthend': 10, 'yearend': year+1, 'format': 1}\n",
    "        r = requests.get(url, params=params)\n",
    "        for line in StringIO(r.text).readlines()[3:]:\n",
    "            data = line.split(',')[:-1]\n",
    "            values = {'icao': icao,\n",
    "                      'date': '{:02}-{:02}-{:02}'.format(*[int(x) for x in data[0].split('-')]), #format dates for SQL\n",
    "                      'max_temp': data[1],\n",
    "                      'mean_temp': data[2],\n",
    "                      'min_temp': data[3],\n",
    "                      'max_humidity': data[7],\n",
    "                      'mean_humidity': data[8],\n",
    "                      'min_humidity': data[9],\n",
    "                      'precip': data[19],\n",
    "                      'event': data[21]}\n",
    "            engine.execute(weather_table.insert(), values)\n",
    "    print(icao, 'done')"
   ]
  },
  {
   "cell_type": "markdown",
   "metadata": {},
   "source": [
    "Now populate the database for all the airports in the airport table"
   ]
  },
  {
   "cell_type": "code",
   "execution_count": 5,
   "metadata": {
    "collapsed": false
   },
   "outputs": [],
   "source": [
    "icao_list = [r[0] for r in engine.execute(\"select ICAO from airports\")]"
   ]
  },
  {
   "cell_type": "markdown",
   "metadata": {},
   "source": [
    "# The function below will take quite some time to run"
   ]
  },
  {
   "cell_type": "code",
   "execution_count": 6,
   "metadata": {
    "collapsed": false
   },
   "outputs": [
    {
     "name": "stdout",
     "output_type": "stream",
     "text": [
      "KATL done\n",
      "KORD done\n",
      "KLAX done\n",
      "KDFW done\n",
      "KDEN done\n",
      "KJFK done\n",
      "KSFO done\n",
      "KIAH done\n",
      "KLAS done\n",
      "KPHX done\n",
      "KCLT done\n",
      "KMIA done\n",
      "KMCO done\n",
      "KEWR done\n",
      "KDTW done\n",
      "KMSP done\n",
      "KSEA done\n",
      "KPHL done\n",
      "KBOS done\n",
      "KLGA done\n",
      "KIAD done\n",
      "KBWI done\n",
      "KFLL done\n",
      "KSLC done\n",
      "PHNL done\n",
      "KDCA done\n",
      "KMDW done\n",
      "KSAN done\n",
      "KTPA done\n",
      "KPDX done\n",
      "KSTL done\n",
      "KMCI done\n",
      "KMEM done\n",
      "KCLE done\n",
      "KOAK done\n",
      "TJSJ done\n",
      "KRDU done\n",
      "KBNA done\n",
      "KSMF done\n",
      "KHOU done\n",
      "KSNA done\n",
      "KAUS done\n",
      "KSJC done\n",
      "KMSY done\n",
      "KPIT done\n",
      "KSAT done\n",
      "KCVG done\n",
      "KMKE done\n",
      "KDAL done\n",
      "KIND done\n"
     ]
    }
   ],
   "source": [
    "for icao in tqdm(icao_list):\n",
    "    get_weather(icao)"
   ]
  },
  {
   "cell_type": "code",
   "execution_count": null,
   "metadata": {
    "collapsed": true
   },
   "outputs": [],
   "source": []
  }
 ],
 "metadata": {
  "anaconda-cloud": {},
  "kernelspec": {
   "display_name": "Python [seminar-env]",
   "language": "python",
   "name": "Python [seminar-env]"
  },
  "language_info": {
   "codemirror_mode": {
    "name": "ipython",
    "version": 3
   },
   "file_extension": ".py",
   "mimetype": "text/x-python",
   "name": "python",
   "nbconvert_exporter": "python",
   "pygments_lexer": "ipython3",
   "version": "3.5.2"
  }
 },
 "nbformat": 4,
 "nbformat_minor": 0
}
