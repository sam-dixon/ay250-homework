{
 "cells": [
  {
   "cell_type": "markdown",
   "metadata": {},
   "source": [
    "# Interaction with the World Homework (#3)\n",
    "Python Computing for Data Science (c) J Bloom, UC Berkeley, 2016"
   ]
  },
  {
   "cell_type": "markdown",
   "metadata": {},
   "source": [
    "# 1) Monty: The Python Siri\n",
    "\n",
    "Let's make a Siri-like program with the following properties:\n",
    "   - record your voice command\n",
    "   - use a webservice to parse that sound file into text\n",
    "   - based on what the text, take three different types of actions:\n",
    "       - send an email to yourself\n",
    "       - do some math\n",
    "       - tell a joke\n",
    "\n",
    "So for example, if you say \"Monty: email me with subject hello and body goodbye\", it will email you with the appropriate subject and body. If you say \"Monty: tell me a joke\" then it will go to the web and find a joke and print it for you. If you say, \"Monty: calculate two times three\" it should response with printing the number 6.\n",
    "\n",
    "Hint: you can use speed-to-text apps like Houndify to return the text (but not do the actions). You'll need to sign up for a free API and then follow documentation instructions for using the service within Python. "
   ]
  },
  {
   "cell_type": "code",
   "execution_count": 56,
   "metadata": {
    "collapsed": false
   },
   "outputs": [],
   "source": [
    "import wave\n",
    "import pyaudio\n",
    "import houndify\n",
    "from keys import client_id, client_key, user, pwd # contains Houndify API info and gmail username/password\n",
    "import json\n",
    "import smtplib\n",
    "from email.mime.text import MIMEText\n",
    "import urllib.request"
   ]
  },
  {
   "cell_type": "code",
   "execution_count": 2,
   "metadata": {
    "collapsed": true
   },
   "outputs": [],
   "source": [
    "def record_audio(fname, rec_sec=5):\n",
    "    \"\"\"Record 5 seconds of audio data and writes it to file\"\"\"\n",
    "    chunk = 1024\n",
    "    FORMAT = pyaudio.paInt16\n",
    "    CHANNELS = 1\n",
    "    RATE = 16000\n",
    "    RECORD_SECONDS = rec_sec\n",
    "    WAVE_OUTPUT_FILENAME = fname\n",
    "    p = pyaudio.PyAudio()\n",
    "    stream = p.open(format = FORMAT,\n",
    "        channels = CHANNELS,\n",
    "        rate = RATE,\n",
    "        input = True,\n",
    "        frames_per_buffer = chunk)\n",
    "    all = []\n",
    "    for i in range(0, int(RATE / chunk * RECORD_SECONDS)):\n",
    "        data = stream.read(chunk)\n",
    "        all.append(data)\n",
    "    print(\"* done recording\")\n",
    "    stream.close()\n",
    "    p.terminate()\n",
    "    data = b\"\".join(all)\n",
    "    wf = wave.open(WAVE_OUTPUT_FILENAME, \"wb\")\n",
    "    wf.setnchannels(CHANNELS)\n",
    "    wf.setsampwidth(p.get_sample_size(FORMAT))\n",
    "    wf.setframerate(RATE)\n",
    "    wf.writeframes(data)\n",
    "    wf.close()"
   ]
  },
  {
   "cell_type": "code",
   "execution_count": 45,
   "metadata": {
    "collapsed": true
   },
   "outputs": [],
   "source": [
    "def do_math(response):\n",
    "    \"\"\"\n",
    "    Returns the formula and result that Houndify understood and calculated\n",
    "    `response` is the JSON response from Houndify\n",
    "    \"\"\"\n",
    "    formula = response['AllResults'][0]['NativeData']['Formula']\n",
    "    result = response['AllResults'][0]['NativeData']['Result']\n",
    "    return formula+'='+result"
   ]
  },
  {
   "cell_type": "code",
   "execution_count": 59,
   "metadata": {
    "collapsed": false
   },
   "outputs": [],
   "source": [
    "def send_email(response):\n",
    "    \"\"\"\n",
    "    Sends an email with the information understood by Houndify.\n",
    "    `response` is the JSON response from Houndify.\n",
    "    `user` and `pwd` are not included in the repo for obvious reasons; they can be replaced\n",
    "    with your information.\n",
    "    This function will pause to make sure the user wants to send the email.\n",
    "    \"\"\"\n",
    "    email_info = response['AllResults'][0]['RequiredFeaturesSupportedResult']['ConversationState']\n",
    "    subject = email_info['NewSubject']\n",
    "    body = email_info['NewBody']\n",
    "    msg = MIMEText(body)\n",
    "    msg['Subject'] = subject\n",
    "    msg['From'] = user\n",
    "    msg['To'] = user\n",
    "    status = input('Send the following to '+user+'?\\n'+'-'*70+'\\n'+msg.as_string()+'\\n\\ny/[n]\\n\\n')\n",
    "    if status == 'y':\n",
    "        server = smtplib.SMTP('smtp.gmail.com', 587)\n",
    "        server.starttls()\n",
    "        server.login(user, pwd)\n",
    "        server.sendmail(user, user, msg.as_string())\n",
    "        server.quit()\n",
    "        return msg.as_string()\n",
    "    else:\n",
    "        return 'Email failed.'"
   ]
  },
  {
   "cell_type": "code",
   "execution_count": 60,
   "metadata": {
    "collapsed": true
   },
   "outputs": [],
   "source": [
    "def get_joke():\n",
    "    \"\"\"\n",
    "    Get a joke from http://tambal.azurewebsites.net/joke/random\n",
    "    \"\"\"\n",
    "    contents = urllib.request.urlopen('http://tambal.azurewebsites.net/joke/random').read()\n",
    "    joke = json.loads(contents.decode('utf-8'))\n",
    "    return joke['joke']"
   ]
  },
  {
   "cell_type": "code",
   "execution_count": 61,
   "metadata": {
    "collapsed": true
   },
   "outputs": [],
   "source": [
    "def respond(response):\n",
    "    \"\"\"\n",
    "    Using the Houndify structured response, determines which actions to take.\n",
    "    \"\"\"\n",
    "    if len(response['DomainUsage']) != 0:\n",
    "        if response['DomainUsage'][0]['Domain'] == 'Email':\n",
    "            e = send_email(response)\n",
    "        if response['DomainUsage'][0]['Domain'] == 'Arithmetic':\n",
    "            print(do_math(response))\n",
    "    else:\n",
    "        transcript = response['Disambiguation']['ChoiceData'][0]['Transcription']\n",
    "        if 'joke' in transcript:\n",
    "            print(get_joke())\n",
    "        else:\n",
    "            \"Sorry, I didn't get that...\""
   ]
  },
  {
   "cell_type": "code",
   "execution_count": 66,
   "metadata": {
    "collapsed": false
   },
   "outputs": [],
   "source": [
    "def test_all_response_types():\n",
    "    from test_responses import email_response, joke_response, math_response\n",
    "    for response in [email_response, joke_response, math_response]:\n",
    "        respond(response)\n",
    "        print('\\n'+'-'*70+'\\n')"
   ]
  },
  {
   "cell_type": "code",
   "execution_count": 68,
   "metadata": {
    "collapsed": false
   },
   "outputs": [
    {
     "name": "stdout",
     "output_type": "stream",
     "text": [
      "Send the following to samdixon526@gmail.com?\n",
      "----------------------------------------------------------------------\n",
      "Content-Type: text/plain; charset=\"us-ascii\"\n",
      "MIME-Version: 1.0\n",
      "Content-Transfer-Encoding: 7bit\n",
      "Subject: hello\n",
      "From: samdixon526@gmail.com\n",
      "To: samdixon526@gmail.com\n",
      "\n",
      "goodbye\n",
      "y/[n]\n",
      "y\n",
      "\n",
      "----------------------------------------------------------------------\n",
      "\n",
      "What's funnier than a monkey dancing with an elephant? Two monkeys dancing with an elephant.\n",
      "\n",
      "----------------------------------------------------------------------\n",
      "\n",
      "9147*474=4.33568e+06\n",
      "\n",
      "----------------------------------------------------------------------\n",
      "\n"
     ]
    }
   ],
   "source": [
    "test_all_response_types()"
   ]
  },
  {
   "cell_type": "code",
   "execution_count": 69,
   "metadata": {
    "collapsed": false
   },
   "outputs": [],
   "source": [
    "clientId = client_id\n",
    "clientKey = client_key\n",
    "userId = \"test_user\"\n",
    "requestInfo = {'ClientID': clientId,'UserID': userId}\n",
    "client = houndify.StreamingHoundClient(clientId, clientKey, userId, requestInfo, sampleRate=16000)\n",
    "\n",
    "class Listener(houndify.HoundListener):\n",
    "    def onPartialTranscript(self, transcript):\n",
    "        pass\n",
    "    def onFinalResponse(self, response):\n",
    "        respond(response)\n",
    "    def onError(self, err):\n",
    "        print('Error:', err)\n",
    "\n",
    "def ask_houndify(fname):\n",
    "    chunk = 1024\n",
    "    l = Listener()\n",
    "    client.start(l)\n",
    "    f = wave.open(fname, 'rb')\n",
    "    rate = f.getframerate()\n",
    "    samples = f.readframes(chunk)\n",
    "    finished = False\n",
    "    while not finished:\n",
    "        client.fill(samples)\n",
    "        samples = f.readframes(chunk)\n",
    "        if len(samples)==0:\n",
    "            break\n",
    "    client.finish()"
   ]
  },
  {
   "cell_type": "code",
   "execution_count": null,
   "metadata": {
    "collapsed": true
   },
   "outputs": [],
   "source": [
    "def test_ask_houndify():\n",
    "    fnames = ['email.wav', 'math.wav', 'joke.wav']\n",
    "    for f in [os.path.join('./test_queries', f) for f in fnames]:\n",
    "        ask_houndify(f)"
   ]
  },
  {
   "cell_type": "markdown",
   "metadata": {},
   "source": [
    "# 2) Write a program that identifies musical notes from sound (AIFF) files. \n",
    "\n",
    "  - Run it on the supplied sound files (12) and report your program’s results. \n",
    "  - Use the labeled sounds (4) to make sure it works correctly. The provided sound files contain 1-3 simultaneous notes from different organs.\n",
    "  - Save copies of any example plots to illustrate how your program works.\n",
    "  \n",
    "  https://piazza.com/berkeley/fall2016/ay250/resources -> hw3_sound_files.zip"
   ]
  },
  {
   "cell_type": "markdown",
   "metadata": {},
   "source": [
    "Hints: You’ll want to decompose the sound into a frequency power spectrum. Use a Fast Fourier Transform. Be care about “unpacking” the string hexcode into python data structures. The sound files use 32 bit data. Play around with what happens when you convert the string data to other integer sizes, or signed vs unsigned integers. Also, beware of harmonics."
   ]
  },
  {
   "cell_type": "code",
   "execution_count": 3,
   "metadata": {
    "collapsed": true
   },
   "outputs": [],
   "source": [
    "import aifc\n",
    "import matplotlib.pyplot as plt\n",
    "from scipy.fftpack import fft\n",
    "from detect_peaks import detect_peaks\n",
    "%matplotlib inline"
   ]
  },
  {
   "cell_type": "code",
   "execution_count": 4,
   "metadata": {
    "collapsed": false
   },
   "outputs": [],
   "source": [
    "def read_aiff(path, chunk_size=1024, dtype=np.int32, byteswap=True):\n",
    "    \"\"\"\n",
    "    Read in AIFF files one chunk at a time. The data is 32 bit, and byteswapping is needed\n",
    "    to properly convert hexcode to strings\n",
    "    \"\"\"\n",
    "    CHUNK = chunk_size\n",
    "    f = aifc.open(path, 'rb')\n",
    "    frame_rate = f.getframerate()\n",
    "    nchannels = f.getnchannels() # Sound files are in stereo\n",
    "    result = []\n",
    "    data = f.readframes(CHUNK)\n",
    "    while len(data) > 0:\n",
    "        result.append(np.fromstring(data, dtype=np.int32).byteswap())\n",
    "        data = f.readframes(CHUNK)\n",
    "    result = np.concatenate(result)\n",
    "    return result, frame_rate*nchannels"
   ]
  },
  {
   "cell_type": "code",
   "execution_count": 5,
   "metadata": {
    "collapsed": true
   },
   "outputs": [],
   "source": [
    "def remove_harmonics(frequencies):\n",
    "    ok = [frequencies[0]]\n",
    "    ok.append"
   ]
  },
  {
   "cell_type": "code",
   "execution_count": 63,
   "metadata": {
    "collapsed": false
   },
   "outputs": [],
   "source": [
    "def find_peaks(data, frequencies, plot=True, remove_harmonics=True):\n",
    "    \"\"\"\n",
    "    Detect the peak frequencies in data.\n",
    "    Plotting shows the Fourier transform with the detected peaks highlighted.\n",
    "    This code makes use of the detect_peaks function from Marcos Duarte\n",
    "    (https://github.com/demotu/BMC)\n",
    "    \"\"\"\n",
    "    N = len(data)*2\n",
    "    T = 1.0 / frequencies\n",
    "    x = np.linspace(0.0, N*T, N)\n",
    "    y = data\n",
    "    yf = fft(data)\n",
    "    xf = np.linspace(0.0, 1.0/(2.0*T), N/2)\n",
    "    yf = 2.0/N*np.abs(yf[(60<xf) & (xf<10000)])\n",
    "    xf = xf[(60<xf) & (xf<10000)]\n",
    "    # mph: minimum peak height\n",
    "    # mpd: minimum peak distance\n",
    "    ind = detect_peaks(yf, mph=2e6, mpd=1000)\n",
    "    if plot:\n",
    "        plt.plot(xf, yf)\n",
    "        plt.plot(xf[ind], yf[ind], 'ro')\n",
    "        plt.xlim(60, 4000)\n",
    "        plt.xscale('log')\n",
    "    if remove_harmonics:\n",
    "        peak_freq = xf[ind]\n",
    "        no_h = [peak_freq[0]]\n",
    "        for x in peak_freq[1:]:\n",
    "            peak_freq = list(filter(lambda x: x/peak_freq[0]%1>0.05 and x/peak_freq[0]%1<0.95, peak_freq))\n",
    "            if len(peak_freq)!=0:\n",
    "                no_h.append(peak_freq[0])\n",
    "        return no_h, yf[xf==no_h]\n",
    "    else: return xf[ind], yf[ind]"
   ]
  },
  {
   "cell_type": "code",
   "execution_count": 64,
   "metadata": {
    "collapsed": false
   },
   "outputs": [],
   "source": [
    "def create_note_dict(a=440, reverse=False):\n",
    "    \"\"\"\n",
    "    Calculate the note name for various frequencies and return as a dictionary.\n",
    "    \"\"\"\n",
    "    midi = [(a / 8) * (2 ** ((x - 9) / 12)) for x in range(127)]\n",
    "    notes = ['C',\n",
    "             'C#/Db',\n",
    "             'D',\n",
    "             'D#/Eb',\n",
    "             'E',\n",
    "             'F',\n",
    "             'F#/Gb',\n",
    "             'G',\n",
    "             'G#/Ab',\n",
    "             'A',\n",
    "             'A#/Bb',\n",
    "             'B']\n",
    "    note_dict = {}\n",
    "    for i, m in enumerate(midi):\n",
    "        octave = i//12+1\n",
    "        note = notes[i%12]\n",
    "        name = note+str(octave)\n",
    "        if reverse:\n",
    "            note_dict[name] = m\n",
    "        else:\n",
    "            note_dict[m] = name\n",
    "    return note_dict"
   ]
  },
  {
   "cell_type": "code",
   "execution_count": 65,
   "metadata": {
    "collapsed": false
   },
   "outputs": [],
   "source": [
    "def match_notes(peaks):\n",
    "    \"\"\"\n",
    "    Match peak frequencies to the closest note name.\n",
    "    \"\"\"\n",
    "    note_dict = create_note_dict()\n",
    "    note_names = []\n",
    "    for p in peaks:\n",
    "        note_names.append(note_dict[min(note_dict.keys(), key=lambda k: abs(k-p))])\n",
    "    return peaks, note_names"
   ]
  },
  {
   "cell_type": "code",
   "execution_count": 66,
   "metadata": {
    "collapsed": false
   },
   "outputs": [
    {
     "name": "stdout",
     "output_type": "stream",
     "text": [
      "A4_PopOrgan\n"
     ]
    },
    {
     "data": {
      "image/png": "[encoded data removed]",
      "text/plain": [
       "<matplotlib.figure.Figure at 0x1146fc240>"
      ]
     },
     "metadata": {},
     "output_type": "display_data"
    },
    {
     "name": "stdout",
     "output_type": "stream",
     "text": [
      "['A4']\n",
      "C4+A4_PopOrgan\n"
     ]
    },
    {
     "name": "stderr",
     "output_type": "stream",
     "text": [
      "/Users/samdixon/miniconda/envs/seminar-env/lib/python3.5/site-packages/ipykernel/__main__.py:31: DeprecationWarning: elementwise == comparison failed; this will raise an error in the future.\n",
      "/Users/samdixon/miniconda/envs/seminar-env/lib/python3.5/site-packages/ipykernel/__main__.py:31: VisibleDeprecationWarning: using a boolean instead of an integer will result in an error in the future\n"
     ]
    },
    {
     "data": {
      "image/png": "[encoded data removed]",
      "text/plain": [
       "<matplotlib.figure.Figure at 0x1146f4a20>"
      ]
     },
     "metadata": {},
     "output_type": "display_data"
    },
    {
     "name": "stdout",
     "output_type": "stream",
     "text": [
      "['C4', 'A4']\n",
      "F3_PopOrgan\n"
     ]
    },
    {
     "data": {
      "image/png": "[encoded data removed]",
      "text/plain": [
       "<matplotlib.figure.Figure at 0x116fa4438>"
      ]
     },
     "metadata": {},
     "output_type": "display_data"
    },
    {
     "name": "stdout",
     "output_type": "stream",
     "text": [
      "['F3']\n",
      "F4_CathedralOrgan\n"
     ]
    },
    {
     "data": {
      "image/png": "[encoded data removed]",
      "text/plain": [
       "<matplotlib.figure.Figure at 0x116b21c18>"
      ]
     },
     "metadata": {},
     "output_type": "display_data"
    },
    {
     "name": "stdout",
     "output_type": "stream",
     "text": [
      "['F4', 'A7']\n"
     ]
    }
   ],
   "source": [
    "test_files = ['A4_PopOrgan.aif', 'C4+A4_PopOrgan.aif', 'F3_PopOrgan.aif', 'F4_CathedralOrgan.aif']\n",
    "for path in [os.path.join('./sound_files/', f) for f in test_files]:\n",
    "    print(os.path.basename(path)[:-4])\n",
    "    data, frequencies = read_aiff(path)\n",
    "    peak_freq, peak_height = find_peaks(data, frequencies)\n",
    "    _, notes = match_notes(peak_freq)\n",
    "    plt.show()\n",
    "    print(notes)"
   ]
  },
  {
   "cell_type": "code",
   "execution_count": 69,
   "metadata": {
    "collapsed": false
   },
   "outputs": [
    {
     "name": "stderr",
     "output_type": "stream",
     "text": [
      "/Users/samdixon/miniconda/envs/seminar-env/lib/python3.5/site-packages/ipykernel/__main__.py:31: DeprecationWarning: elementwise == comparison failed; this will raise an error in the future.\n",
      "/Users/samdixon/miniconda/envs/seminar-env/lib/python3.5/site-packages/ipykernel/__main__.py:31: VisibleDeprecationWarning: using a boolean instead of an integer will result in an error in the future\n"
     ]
    },
    {
     "data": {
      "image/png": "[encoded data removed]",
      "text/plain": [
       "<matplotlib.figure.Figure at 0x116ab2eb8>"
      ]
     },
     "metadata": {},
     "output_type": "display_data"
    },
    {
     "name": "stdout",
     "output_type": "stream",
     "text": [
      "['C4', 'G4', 'D5', 'A5']\n"
     ]
    },
    {
     "data": {
      "image/png": "[encoded data removed]",
      "text/plain": [
       "<matplotlib.figure.Figure at 0x10e79e4a8>"
      ]
     },
     "metadata": {},
     "output_type": "display_data"
    },
    {
     "name": "stdout",
     "output_type": "stream",
     "text": [
      "['F3']\n"
     ]
    },
    {
     "data": {
      "image/png": "[encoded data removed]",
      "text/plain": [
       "<matplotlib.figure.Figure at 0x114ab6d30>"
      ]
     },
     "metadata": {},
     "output_type": "display_data"
    },
    {
     "name": "stdout",
     "output_type": "stream",
     "text": [
      "['A4', 'A5']\n"
     ]
    },
    {
     "data": {
      "image/png": "[encoded data removed]",
      "text/plain": [
       "<matplotlib.figure.Figure at 0x1146e85c0>"
      ]
     },
     "metadata": {},
     "output_type": "display_data"
    },
    {
     "name": "stdout",
     "output_type": "stream",
     "text": [
      "['C4', 'E7']\n"
     ]
    },
    {
     "data": {
      "image/png": "[encoded data removed]",
      "text/plain": [
       "<matplotlib.figure.Figure at 0x11470e8d0>"
      ]
     },
     "metadata": {},
     "output_type": "display_data"
    },
    {
     "name": "stdout",
     "output_type": "stream",
     "text": [
      "['G2']\n"
     ]
    },
    {
     "data": {
      "image/png": "[encoded data removed]",
      "text/plain": [
       "<matplotlib.figure.Figure at 0x116098208>"
      ]
     },
     "metadata": {},
     "output_type": "display_data"
    },
    {
     "name": "stdout",
     "output_type": "stream",
     "text": [
      "['C5', 'C#/Db7', 'A#/Bb7', 'E8']\n"
     ]
    },
    {
     "data": {
      "image/png": "[encoded data removed]",
      "text/plain": [
       "<matplotlib.figure.Figure at 0x1122e2f60>"
      ]
     },
     "metadata": {},
     "output_type": "display_data"
    },
    {
     "name": "stdout",
     "output_type": "stream",
     "text": [
      "['D5']\n"
     ]
    },
    {
     "data": {
      "image/png": "[encoded data removed]",
      "text/plain": [
       "<matplotlib.figure.Figure at 0x10bbbfa20>"
      ]
     },
     "metadata": {},
     "output_type": "display_data"
    },
    {
     "name": "stdout",
     "output_type": "stream",
     "text": [
      "['F4']\n"
     ]
    },
    {
     "data": {
      "image/png": "[encoded data removed]",
      "text/plain": [
       "<matplotlib.figure.Figure at 0x10bb7bb70>"
      ]
     },
     "metadata": {},
     "output_type": "display_data"
    },
    {
     "name": "stdout",
     "output_type": "stream",
     "text": [
      "['G3', 'B6']\n"
     ]
    },
    {
     "data": {
      "image/png": "[encoded data removed]",
      "text/plain": [
       "<matplotlib.figure.Figure at 0x1107f27f0>"
      ]
     },
     "metadata": {},
     "output_type": "display_data"
    },
    {
     "name": "stdout",
     "output_type": "stream",
     "text": [
      "['C2', 'E5']\n"
     ]
    },
    {
     "data": {
      "image/png": "[encoded data removed]",
      "text/plain": [
       "<matplotlib.figure.Figure at 0x1161586d8>"
      ]
     },
     "metadata": {},
     "output_type": "display_data"
    },
    {
     "name": "stdout",
     "output_type": "stream",
     "text": [
      "['E2', 'G#/Ab5']\n"
     ]
    },
    {
     "data": {
      "image/png": "[encoded data removed]",
      "text/plain": [
       "<matplotlib.figure.Figure at 0x114ae8c18>"
      ]
     },
     "metadata": {},
     "output_type": "display_data"
    },
    {
     "name": "stdout",
     "output_type": "stream",
     "text": [
      "['C2', 'E5']\n"
     ]
    }
   ],
   "source": [
    "for i in range(1, 13):\n",
    "    fname = os.path.join('./sound_files/', str(i)+'.aif')\n",
    "    data, frequencies = read_aiff(fname)\n",
    "    peak_freq, peak_height = find_peaks(data, frequencies, remove_harmonics=True)\n",
    "    _, notes = match_notes(peak_freq)\n",
    "    plt.show()\n",
    "    print(notes)"
   ]
  },
  {
   "cell_type": "code",
   "execution_count": null,
   "metadata": {
    "collapsed": true
   },
   "outputs": [],
   "source": []
  }
 ],
 "metadata": {
  "anaconda-cloud": {},
  "kernelspec": {
   "display_name": "Python [seminar-env]",
   "language": "python",
   "name": "Python [seminar-env]"
  },
  "language_info": {
   "codemirror_mode": {
    "name": "ipython",
    "version": 3
   },
   "file_extension": ".py",
   "mimetype": "text/x-python",
   "name": "python",
   "nbconvert_exporter": "python",
   "pygments_lexer": "ipython3",
   "version": "3.5.2"
  }
 },
 "nbformat": 4,
 "nbformat_minor": 0
}
