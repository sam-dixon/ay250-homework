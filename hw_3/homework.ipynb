{
 "cells": [
  {
   "cell_type": "markdown",
   "metadata": {},
   "source": [
    "# Interaction with the World Homework (#3)\n",
    "Python Computing for Data Science (c) J Bloom, UC Berkeley, 2016"
   ]
  },
  {
   "cell_type": "markdown",
   "metadata": {},
   "source": [
    "# 1) Monty: The Python Siri\n",
    "\n",
    "Let's make a Siri-like program with the following properties:\n",
    "   - record your voice command\n",
    "   - use a webservice to parse that sound file into text\n",
    "   - based on what the text, take three different types of actions:\n",
    "       - send an email to yourself\n",
    "       - do some math\n",
    "       - tell a joke\n",
    "\n",
    "So for example, if you say \"Monty: email me with subject hello and body goodbye\", it will email you with the appropriate subject and body. If you say \"Monty: tell me a joke\" then it will go to the web and find a joke and print it for you. If you say, \"Monty: calculate two times three\" it should response with printing the number 6.\n",
    "\n",
    "Hint: you can use speed-to-text apps like Houndify to return the text (but not do the actions). You'll need to sign up for a free API and then follow documentation instructions for using the service within Python. "
   ]
  },
  {
   "cell_type": "code",
   "execution_count": 1,
   "metadata": {
    "collapsed": false
   },
   "outputs": [],
   "source": [
    "import wave\n",
    "import pyaudio\n",
    "import houndify\n",
    "from keys import client_id, client_key, user, pwd # contains Houndify API info and gmail username/password\n",
    "import json\n",
    "import smtplib\n",
    "from email.mime.text import MIMEText\n",
    "import urllib.request\n",
    "from test_responses import *"
   ]
  },
  {
   "cell_type": "code",
   "execution_count": 2,
   "metadata": {
    "collapsed": true
   },
   "outputs": [],
   "source": [
    "def record_audio(fname, rec_sec=10):\n",
    "    \"\"\"Record 10 seconds of audio data and writes it to file\"\"\"\n",
    "    chunk = 1024\n",
    "    FORMAT = pyaudio.paInt16\n",
    "    CHANNELS = 1\n",
    "    RATE = 16000\n",
    "    RECORD_SECONDS = rec_sec\n",
    "    WAVE_OUTPUT_FILENAME = fname\n",
    "    p = pyaudio.PyAudio()\n",
    "    stream = p.open(format = FORMAT,\n",
    "        channels = CHANNELS,\n",
    "        rate = RATE,\n",
    "        input = True,\n",
    "        frames_per_buffer = chunk)\n",
    "    all = []\n",
    "    for i in range(0, int(RATE / chunk * RECORD_SECONDS)):\n",
    "        data = stream.read(chunk)\n",
    "        all.append(data)\n",
    "    print(\"* done recording\")\n",
    "    stream.close()\n",
    "    p.terminate()\n",
    "    data = b\"\".join(all)\n",
    "    wf = wave.open(WAVE_OUTPUT_FILENAME, \"wb\")\n",
    "    wf.setnchannels(CHANNELS)\n",
    "    wf.setsampwidth(p.get_sample_size(FORMAT))\n",
    "    wf.setframerate(RATE)\n",
    "    wf.writeframes(data)\n",
    "    wf.close()"
   ]
  },
  {
   "cell_type": "code",
   "execution_count": 3,
   "metadata": {
    "collapsed": true
   },
   "outputs": [],
   "source": [
    "def do_math(response):\n",
    "    \"\"\"\n",
    "    Returns the formula and result that Houndify understood and calculated\n",
    "    `response` is the JSON response from Houndify\n",
    "    \"\"\"\n",
    "    formula = response['AllResults'][0]['NativeData']['Formula']\n",
    "    result = response['AllResults'][0]['NativeData']['Result']\n",
    "    return formula+'='+result"
   ]
  },
  {
   "cell_type": "code",
   "execution_count": 54,
   "metadata": {
    "collapsed": false
   },
   "outputs": [],
   "source": [
    "def send_email(response):\n",
    "    \"\"\"\n",
    "    Sends an email with the information understood by Houndify.\n",
    "    `response` is the JSON response from Houndify.\n",
    "    `user` and `pwd` are not included in the repo for obvious reasons; they can be replaced\n",
    "    with your information.\n",
    "    This function will pause to make sure the user wants to send the email.\n",
    "    \"\"\"\n",
    "    try:\n",
    "        email_info = response['AllResults'][0]['NativeData']['Email']\n",
    "    except KeyError:\n",
    "        print(\"Houndify didn't understand that...try again.\")\n",
    "        return\n",
    "    subject = email_info['Subject']\n",
    "    body = email_info['Body']\n",
    "    msg = MIMEText(body)\n",
    "    msg['Subject'] = subject\n",
    "    msg['From'] = user\n",
    "    msg['To'] = user\n",
    "    server = smtplib.SMTP('smtp.gmail.com', 587, None, 30)\n",
    "    server.starttls()\n",
    "    server.login(user, pwd)\n",
    "    server.sendmail(user, user, msg.as_string())\n",
    "    print(msg.as_string())\n",
    "    server.quit()\n",
    "    return msg.as_string()"
   ]
  },
  {
   "cell_type": "code",
   "execution_count": 55,
   "metadata": {
    "collapsed": true
   },
   "outputs": [],
   "source": [
    "def get_joke():\n",
    "    \"\"\"\n",
    "    Get a joke from http://tambal.azurewebsites.net/joke/random\n",
    "    \"\"\"\n",
    "    contents = urllib.request.urlopen('http://tambal.azurewebsites.net/joke/random').read()\n",
    "    joke = json.loads(contents.decode('utf-8'))\n",
    "    return joke['joke']"
   ]
  },
  {
   "cell_type": "code",
   "execution_count": 56,
   "metadata": {
    "collapsed": false
   },
   "outputs": [],
   "source": [
    "def respond(response):\n",
    "    \"\"\"\n",
    "    Using the Houndify structured response, determines which actions to take.\n",
    "    \"\"\"\n",
    "    if len(response['DomainUsage']) != 0:\n",
    "        if response['DomainUsage'][0]['Domain'] == 'Email':\n",
    "            send_email(response)\n",
    "        if response['DomainUsage'][0]['Domain'] == 'Arithmetic':\n",
    "            print(do_math(response))\n",
    "    else:\n",
    "        transcript = response['Disambiguation']['ChoiceData'][0]['Transcription']\n",
    "        if 'joke' in transcript:\n",
    "            print(get_joke())\n",
    "        else:\n",
    "            \"Sorry, I didn't get that...\"\n",
    "    return response"
   ]
  },
  {
   "cell_type": "code",
   "execution_count": 57,
   "metadata": {
    "collapsed": false
   },
   "outputs": [],
   "source": [
    "def test_all_response_types():\n",
    "    for response in [joke_response, math_response, email_response2, email_response]:\n",
    "        r = respond(response)\n",
    "        print('\\n'+'-'*70+'\\n')\n",
    "    return r"
   ]
  },
  {
   "cell_type": "code",
   "execution_count": 58,
   "metadata": {
    "collapsed": false
   },
   "outputs": [
    {
     "name": "stdout",
     "output_type": "stream",
     "text": [
      "What's funnier than a monkey dancing with an elephant? Two monkeys dancing with an elephant.\n",
      "\n",
      "----------------------------------------------------------------------\n",
      "\n",
      "9147*474=4.33568e+06\n",
      "\n",
      "----------------------------------------------------------------------\n",
      "\n",
      "Content-Type: text/plain; charset=\"us-ascii\"\n",
      "MIME-Version: 1.0\n",
      "Content-Transfer-Encoding: 7bit\n",
      "Subject: Hello\n",
      "From: samdixon526@gmail.com\n",
      "To: samdixon526@gmail.com\n",
      "\n",
      "Goodbye\n",
      "\n",
      "----------------------------------------------------------------------\n",
      "\n",
      "Houndify didn't understand that...try again.\n",
      "\n",
      "----------------------------------------------------------------------\n",
      "\n"
     ]
    }
   ],
   "source": [
    "r = test_all_response_types()"
   ]
  },
  {
   "cell_type": "code",
   "execution_count": 59,
   "metadata": {
    "collapsed": false
   },
   "outputs": [],
   "source": [
    "clientId = client_id\n",
    "clientKey = client_key\n",
    "userId = \"test_user\"\n",
    "requestInfo = {'ClientID': clientId,'UserID': userId}\n",
    "client = houndify.StreamingHoundClient(clientId, clientKey, userId, requestInfo, sampleRate=16000)\n",
    "\n",
    "class Listener(houndify.HoundListener):\n",
    "    def onPartialTranscript(self, transcript):\n",
    "        pass\n",
    "    def onFinalResponse(self, response):\n",
    "        respond(response)\n",
    "    def onError(self, err):\n",
    "        print('Error:', err)\n",
    "\n",
    "def ask_houndify(fname):\n",
    "    chunk = 1024\n",
    "    l = Listener()\n",
    "    client.start(l)\n",
    "    f = wave.open(fname, 'rb')\n",
    "    rate = f.getframerate()\n",
    "    samples = f.readframes(chunk)\n",
    "    finished = False\n",
    "    while not finished:\n",
    "        client.fill(samples)\n",
    "        samples = f.readframes(chunk)\n",
    "        if len(samples)==0:\n",
    "            break\n",
    "    client.finish()"
   ]
  },
  {
   "cell_type": "code",
   "execution_count": 60,
   "metadata": {
    "collapsed": true
   },
   "outputs": [],
   "source": [
    "def test_ask_houndify():\n",
    "    fnames = ['email.wav', 'math.wav', 'joke.wav']\n",
    "    for f in [os.path.join('./test_queries', f) for f in fnames]:\n",
    "        ask_houndify(f)"
   ]
  },
  {
   "cell_type": "code",
   "execution_count": 61,
   "metadata": {
    "collapsed": false
   },
   "outputs": [
    {
     "name": "stdout",
     "output_type": "stream",
     "text": [
      "Houndify didn't understand that...try again.\n",
      "9147*474=4.33568e+06\n",
      "My friend's bakery burned down last night. Now his business is toast.\n"
     ]
    }
   ],
   "source": [
    "test_ask_houndify()"
   ]
  },
  {
   "cell_type": "code",
   "execution_count": 62,
   "metadata": {
    "collapsed": true
   },
   "outputs": [],
   "source": [
    "def do_all():\n",
    "    wait = input('Press enter to start recording')\n",
    "    if wait == '':\n",
    "        record_audio('tmp.wav')\n",
    "    print('Sending to Houndify')\n",
    "    ask_houndify('tmp.wav')\n",
    "    print('Done!')"
   ]
  },
  {
   "cell_type": "code",
   "execution_count": 64,
   "metadata": {
    "collapsed": false
   },
   "outputs": [
    {
     "name": "stdout",
     "output_type": "stream",
     "text": [
      "Press enter to start recording\n",
      "* done recording\n",
      "Sending to Houndify\n",
      "What do I look like? A JOKE MACHINE!?\n",
      "Done!\n"
     ]
    }
   ],
   "source": [
    "do_all()"
   ]
  },
  {
   "cell_type": "markdown",
   "metadata": {},
   "source": [
    "# 2) Write a program that identifies musical notes from sound (AIFF) files. \n",
    "\n",
    "  - Run it on the supplied sound files (12) and report your program’s results. \n",
    "  - Use the labeled sounds (4) to make sure it works correctly. The provided sound files contain 1-3 simultaneous notes from different organs.\n",
    "  - Save copies of any example plots to illustrate how your program works.\n",
    "  \n",
    "  https://piazza.com/berkeley/fall2016/ay250/resources -> hw3_sound_files.zip"
   ]
  },
  {
   "cell_type": "markdown",
   "metadata": {},
   "source": [
    "Hints: You’ll want to decompose the sound into a frequency power spectrum. Use a Fast Fourier Transform. Be care about “unpacking” the string hexcode into python data structures. The sound files use 32 bit data. Play around with what happens when you convert the string data to other integer sizes, or signed vs unsigned integers. Also, beware of harmonics."
   ]
  },
  {
   "cell_type": "code",
   "execution_count": null,
   "metadata": {
    "collapsed": true
   },
   "outputs": [],
   "source": [
    "import aifc\n",
    "import matplotlib.pyplot as plt\n",
    "from scipy.fftpack import fft\n",
    "from detect_peaks import detect_peaks\n",
    "%matplotlib inline"
   ]
  },
  {
   "cell_type": "code",
   "execution_count": null,
   "metadata": {
    "collapsed": false
   },
   "outputs": [],
   "source": [
    "def read_aiff(path, chunk_size=1024, dtype=np.int32, byteswap=True):\n",
    "    \"\"\"\n",
    "    Read in AIFF files one chunk at a time. The data is 32 bit, and byteswapping is needed\n",
    "    to properly convert hexcode to strings\n",
    "    \"\"\"\n",
    "    CHUNK = chunk_size\n",
    "    f = aifc.open(path, 'rb')\n",
    "    frame_rate = f.getframerate()\n",
    "    nchannels = f.getnchannels() # Sound files are in stereo\n",
    "    result = []\n",
    "    data = f.readframes(CHUNK)\n",
    "    while len(data) > 0:\n",
    "        result.append(np.fromstring(data, dtype=np.int32).byteswap())\n",
    "        data = f.readframes(CHUNK)\n",
    "    result = np.concatenate(result)\n",
    "    return result, frame_rate*nchannels"
   ]
  },
  {
   "cell_type": "code",
   "execution_count": null,
   "metadata": {
    "collapsed": false
   },
   "outputs": [],
   "source": [
    "def find_peaks(data, frequencies, plot=True, remove_harmonics=True):\n",
    "    \"\"\"\n",
    "    Detect the peak frequencies in data.\n",
    "    Plotting shows the Fourier transform with the detected peaks highlighted.\n",
    "    This code makes use of the detect_peaks function from Marcos Duarte\n",
    "    (https://github.com/demotu/BMC)\n",
    "    \"\"\"\n",
    "    N = len(data)*2\n",
    "    T = 1.0 / frequencies\n",
    "    x = np.linspace(0.0, N*T, N)\n",
    "    y = data\n",
    "    yf = fft(data)\n",
    "    xf = np.linspace(0.0, 1.0/(2.0*T), N/2)\n",
    "    yf = 2.0/N*np.abs(yf[(60<xf) & (xf<10000)])\n",
    "    xf = xf[(60<xf) & (xf<10000)]\n",
    "    ind = detect_peaks(yf, mph=3e6, mpd=500) # mph: minimum peak height, mpd: minimum peak distance\n",
    "    if plot:\n",
    "        plt.plot(xf, yf, 'k-', alpha=0.7)\n",
    "        plt.plot(xf[ind], yf[ind], 'ro')\n",
    "        plt.xlim(60, 4000)\n",
    "        plt.xscale('log')\n",
    "        plt.yscale('log')\n",
    "    if remove_harmonics:\n",
    "        # Harmonic removal isn't quite perfect...\n",
    "        peak_freq = xf[ind]\n",
    "        no_h = [peak_freq[0]]\n",
    "        for x in peak_freq[1:]:\n",
    "            # Heads up: this loop alters the list it loops over\n",
    "            peak_freq = list(filter(lambda x: x/peak_freq[0]%1>0.1 and x/peak_freq[0]%1<0.9, peak_freq))\n",
    "            if len(peak_freq)!=0:\n",
    "                no_h.append(peak_freq[0])\n",
    "        plt.plot(no_h, yf[np.in1d(xf, no_h)], 'go')\n",
    "        return no_h, yf[np.in1d(xf, no_h)]\n",
    "    else: return xf[ind], yf[ind]"
   ]
  },
  {
   "cell_type": "code",
   "execution_count": null,
   "metadata": {
    "collapsed": false
   },
   "outputs": [],
   "source": [
    "def create_note_dict(a=440, reverse=False):\n",
    "    \"\"\"\n",
    "    Calculate the note name for various frequencies and return as a dictionary.\n",
    "    \"\"\"\n",
    "    midi = [(a / 8) * (2 ** ((x - 9) / 12)) for x in range(127)]\n",
    "    notes = ['C',\n",
    "             'C#/Db',\n",
    "             'D',\n",
    "             'D#/Eb',\n",
    "             'E',\n",
    "             'F',\n",
    "             'F#/Gb',\n",
    "             'G',\n",
    "             'G#/Ab',\n",
    "             'A',\n",
    "             'A#/Bb',\n",
    "             'B']\n",
    "    note_dict = {}\n",
    "    for i, m in enumerate(midi):\n",
    "        octave = i//12+1\n",
    "        note = notes[i%12]\n",
    "        name = note+str(octave)\n",
    "        if reverse:\n",
    "            note_dict[name] = m\n",
    "        else:\n",
    "            note_dict[m] = name\n",
    "    return note_dict"
   ]
  },
  {
   "cell_type": "code",
   "execution_count": null,
   "metadata": {
    "collapsed": false
   },
   "outputs": [],
   "source": [
    "def match_notes(peaks):\n",
    "    \"\"\"\n",
    "    Match peak frequencies to the closest note name.\n",
    "    \"\"\"\n",
    "    note_dict = create_note_dict()\n",
    "    note_names = []\n",
    "    for p in peaks:\n",
    "        note_names.append(note_dict[min(note_dict.keys(), key=lambda k: abs(k-p))])\n",
    "    return peaks, note_names"
   ]
  },
  {
   "cell_type": "code",
   "execution_count": null,
   "metadata": {
    "collapsed": false
   },
   "outputs": [],
   "source": [
    "test_files = ['A4_PopOrgan.aif', 'C4+A4_PopOrgan.aif', 'F3_PopOrgan.aif', 'F4_CathedralOrgan.aif']\n",
    "for path in [os.path.join('./sound_files/', f) for f in test_files]:\n",
    "    print(os.path.basename(path)[:-4])\n",
    "    data, frequencies = read_aiff(path)\n",
    "    peak_freq, peak_height = find_peaks(data, frequencies)\n",
    "    _, notes = match_notes(peak_freq)\n",
    "    plt.show()\n",
    "    print(notes)"
   ]
  },
  {
   "cell_type": "code",
   "execution_count": null,
   "metadata": {
    "collapsed": false
   },
   "outputs": [],
   "source": [
    "for i in range(1, 13):\n",
    "    fname = os.path.join('./sound_files/', str(i)+'.aif')\n",
    "    data, frequencies = read_aiff(fname)\n",
    "    peak_freq, peak_height = find_peaks(data, frequencies, remove_harmonics=True)\n",
    "    _, notes = match_notes(peak_freq)\n",
    "    plt.show()\n",
    "    print(fname, notes)"
   ]
  },
  {
   "cell_type": "code",
   "execution_count": null,
   "metadata": {
    "collapsed": true
   },
   "outputs": [],
   "source": []
  }
 ],
 "metadata": {
  "anaconda-cloud": {},
  "kernelspec": {
   "display_name": "Python [seminar-env]",
   "language": "python",
   "name": "Python [seminar-env]"
  },
  "language_info": {
   "codemirror_mode": {
    "name": "ipython",
    "version": 3
   },
   "file_extension": ".py",
   "mimetype": "text/x-python",
   "name": "python",
   "nbconvert_exporter": "python",
   "pygments_lexer": "ipython3",
   "version": "3.5.2"
  }
 },
 "nbformat": 4,
 "nbformat_minor": 0
}
