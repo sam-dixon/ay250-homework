{
 "cells": [
  {
   "cell_type": "markdown",
   "metadata": {},
   "source": [
    "# Interaction with the World Homework (#3)\n",
    "Python Computing for Data Science (c) J Bloom, UC Berkeley, 2016"
   ]
  },
  {
   "cell_type": "markdown",
   "metadata": {},
   "source": [
    "# 1) Monty: The Python Siri\n",
    "\n",
    "Let's make a Siri-like program with the following properties:\n",
    "   - record your voice command\n",
    "   - use a webservice to parse that sound file into text\n",
    "   - based on what the text, take three different types of actions:\n",
    "       - send an email to yourself\n",
    "       - do some math\n",
    "       - tell a joke\n",
    "\n",
    "So for example, if you say \"Monty: email me with subject hello and body goodbye\", it will email you with the appropriate subject and body. If you say \"Monty: tell me a joke\" then it will go to the web and find a joke and print it for you. If you say, \"Monty: calculate two times three\" it should response with printing the number 6.\n",
    "\n",
    "Hint: you can use speed-to-text apps like Houndify to return the text (but not do the actions). You'll need to sign up for a free API and then follow documentation instructions for using the service within Python. "
   ]
  },
  {
   "cell_type": "code",
   "execution_count": 273,
   "metadata": {
    "collapsed": false
   },
   "outputs": [],
   "source": [
    "import wave\n",
    "import pyaudio\n",
    "import houndify\n",
    "from houndify_keys import client_id, client_key\n",
    "import json"
   ]
  },
  {
   "cell_type": "code",
   "execution_count": 274,
   "metadata": {
    "collapsed": true
   },
   "outputs": [],
   "source": [
    "def record_audio(fname, rec_sec=5):\n",
    "    chunk = 1024\n",
    "    FORMAT = pyaudio.paInt16\n",
    "    CHANNELS = 1\n",
    "    RATE = 16000\n",
    "    RECORD_SECONDS = rec_sec\n",
    "    WAVE_OUTPUT_FILENAME = fname\n",
    "    p = pyaudio.PyAudio()\n",
    "    stream = p.open(format = FORMAT,\n",
    "        channels = CHANNELS,\n",
    "        rate = RATE,\n",
    "        input = True,\n",
    "        frames_per_buffer = chunk)\n",
    "    all = []\n",
    "    for i in range(0, int(RATE / chunk * RECORD_SECONDS)):\n",
    "        data = stream.read(chunk)\n",
    "        all.append(data)\n",
    "    print(\"* done recording\")\n",
    "    stream.close()\n",
    "    p.terminate()\n",
    "    data = b\"\".join(all)\n",
    "    wf = wave.open(WAVE_OUTPUT_FILENAME, \"wb\")\n",
    "    wf.setnchannels(CHANNELS)\n",
    "    wf.setsampwidth(p.get_sample_size(FORMAT))\n",
    "    wf.setframerate(RATE)\n",
    "    wf.writeframes(data)\n",
    "    wf.close()"
   ]
  },
  {
   "cell_type": "code",
   "execution_count": 241,
   "metadata": {
    "collapsed": false
   },
   "outputs": [
    {
     "name": "stdout",
     "output_type": "stream",
     "text": [
      "* done recording\n"
     ]
    }
   ],
   "source": [
    "record_audio('math.wav')"
   ]
  },
  {
   "cell_type": "code",
   "execution_count": 291,
   "metadata": {
    "collapsed": false
   },
   "outputs": [],
   "source": [
    "clientId = client_id\n",
    "clientKey = client_key\n",
    "userId = \"test_user\"\n",
    "requestInfo = {'ClientID': clientId,'UserID': userId}\n",
    "client = houndify.StreamingHoundClient(clientId, clientKey, userId, requestInfo, sampleRate=16000)\n",
    "\n",
    "class Listener(houndify.HoundListener):\n",
    "    def onPartialTranscript(self, transcript):\n",
    "        pass\n",
    "    def onFinalResponse(self, response):\n",
    "        respond(response)\n",
    "    def onError(self, err):\n",
    "        print('Error:', err)\n",
    "\n",
    "def ask_houndify(fname):\n",
    "    chunk = 1024\n",
    "    l = Listener()\n",
    "    client.start(l)\n",
    "    f = wave.open(fname, 'rb')\n",
    "    rate = f.getframerate()\n",
    "    samples = f.readframes(chunk)\n",
    "    finished = False\n",
    "    while not finished:\n",
    "        client.fill(samples)\n",
    "        samples = f.readframes(chunk)\n",
    "        if len(samples)==0:\n",
    "            break\n",
    "    client.finish()\n",
    "    \n",
    "def respond(response):\n",
    "    data = json.loads(str(response))\n",
    "    print(type(data))"
   ]
  },
  {
   "cell_type": "code",
   "execution_count": 292,
   "metadata": {
    "collapsed": false
   },
   "outputs": [],
   "source": [
    "ask_houndify('email.wav')\n",
    "# ask_houndify('math.wav')\n",
    "# ask_houndify('joke.wav')"
   ]
  },
  {
   "cell_type": "code",
   "execution_count": 261,
   "metadata": {
    "collapsed": true
   },
   "outputs": [],
   "source": [
    "email_json"
   ]
  },
  {
   "cell_type": "markdown",
   "metadata": {},
   "source": [
    "# 2) Write a program that identifies musical notes from sound (AIFF) files. \n",
    "\n",
    "  - Run it on the supplied sound files (12) and report your program’s results. \n",
    "  - Use the labeled sounds (4) to make sure it works correctly. The provided sound files contain 1-3 simultaneous notes from different organs.\n",
    "  - Save copies of any example plots to illustrate how your program works.\n",
    "  \n",
    "  https://piazza.com/berkeley/fall2016/ay250/resources -> hw3_sound_files.zip"
   ]
  },
  {
   "cell_type": "markdown",
   "metadata": {},
   "source": [
    "Hints: You’ll want to decompose the sound into a frequency power spectrum. Use a Fast Fourier Transform. Be care about “unpacking” the string hexcode into python data structures. The sound files use 32 bit data. Play around with what happens when you convert the string data to other integer sizes, or signed vs unsigned integers. Also, beware of harmonics."
   ]
  },
  {
   "cell_type": "code",
   "execution_count": 220,
   "metadata": {
    "collapsed": true
   },
   "outputs": [],
   "source": [
    "import aifc\n",
    "import matplotlib.pyplot as plt\n",
    "from scipy.fftpack import fft\n",
    "from detect_peaks import detect_peaks\n",
    "%matplotlib inline"
   ]
  },
  {
   "cell_type": "code",
   "execution_count": 221,
   "metadata": {
    "collapsed": false
   },
   "outputs": [],
   "source": [
    "def read_aiff(path, chunk_size=1024, dtype=np.int32, byteswap=True):\n",
    "    CHUNK = chunk_size\n",
    "    f = aifc.open(path, 'rb')\n",
    "    frame_rate = f.getframerate()\n",
    "    nchannels = f.getnchannels()\n",
    "    result = []\n",
    "    data = f.readframes(CHUNK)\n",
    "    while len(data) > 0:\n",
    "        result.append(np.fromstring(data, dtype=np.int32).byteswap())\n",
    "        data = f.readframes(CHUNK)\n",
    "    result = np.concatenate(result)\n",
    "    return result, frame_rate*nchannels"
   ]
  },
  {
   "cell_type": "code",
   "execution_count": 222,
   "metadata": {
    "collapsed": false
   },
   "outputs": [],
   "source": [
    "def find_peaks(data, frequency, plot=True):\n",
    "    ft = np.fft.fft(d)\n",
    "    N = len(d)*2\n",
    "    T = 1.0 / 88200.\n",
    "    x = np.linspace(0.0, N*T, N)\n",
    "    y = data\n",
    "    yf = fft(data)\n",
    "    xf = np.linspace(0.0, 1.0/(2.0*T), N/2)\n",
    "    yf = 2.0/N*np.abs(yf[(60<xf) & (xf<10000)])\n",
    "    xf = xf[(60<xf) & (xf<10000)]\n",
    "    ind = detect_peaks(yf, mph=5e6, mpd=1000)\n",
    "    plt.figure(figsize=(12, 8))\n",
    "    plt.plot(xf, yf)\n",
    "    plt.plot(xf[ind], yf[ind], 'ro')\n",
    "    return xf[ind], yf[ind]\n",
    "    \n",
    "#     plt.xlim(0, 1000)"
   ]
  },
  {
   "cell_type": "code",
   "execution_count": 223,
   "metadata": {
    "collapsed": false
   },
   "outputs": [
    {
     "data": {
      "text/plain": [
       "(array([  261.5628707 ,   439.25062252,   522.50074051,  1318.06436801]),\n",
       " array([ 23239889.72057112,  34135220.71452497,  25161041.58126199,\n",
       "         13606094.45560455]))"
      ]
     },
     "execution_count": 223,
     "metadata": {},
     "output_type": "execute_result"
    },
    {
     "data": {
      "image/png": "[encoded data removed]",
      "text/plain": [
       "<matplotlib.figure.Figure at 0x1149fb518>"
      ]
     },
     "metadata": {},
     "output_type": "display_data"
    },
    {
     "data": {
      "image/png": "[encoded data removed]",
      "text/plain": [
       "<matplotlib.figure.Figure at 0x1149fbfd0>"
      ]
     },
     "metadata": {},
     "output_type": "display_data"
    },
    {
     "data": {
      "image/png": "[encoded data removed]",
      "text/plain": [
       "<matplotlib.figure.Figure at 0x10994cf60>"
      ]
     },
     "metadata": {},
     "output_type": "display_data"
    },
    {
     "data": {
      "image/png": "[encoded data removed]",
      "text/plain": [
       "<matplotlib.figure.Figure at 0x11e3d3240>"
      ]
     },
     "metadata": {},
     "output_type": "display_data"
    }
   ],
   "source": [
    "find_peaks(*read_aiff('./sound_files/A4_PopOrgan.aif'))\n",
    "find_peaks(*read_aiff('./sound_files/F3_PopOrgan.aif'))\n",
    "find_peaks(*read_aiff('./sound_files/F4_CathedralOrgan.aif'))\n",
    "find_peaks(*read_aiff('./sound_files/C4+A4_PopOrgan.aif'))"
   ]
  },
  {
   "cell_type": "code",
   "execution_count": 224,
   "metadata": {
    "collapsed": false
   },
   "outputs": [],
   "source": [
    "a = 440\n",
    "midi = [(a / 8) * (2 ** ((x - 9) / 12)) for x in range(127)]\n",
    "notes = ['C',\n",
    "         'C#/Db',\n",
    "         'D',\n",
    "         'D#/Eb',\n",
    "         'E',\n",
    "         'F',\n",
    "         'F#/Gb',\n",
    "         'G',\n",
    "         'G#/Ab',\n",
    "         'A',\n",
    "         'A#/Bb',\n",
    "         'B']\n",
    "note_dict = {}\n",
    "for i, m in enumerate(midi):\n",
    "    octave = i//12+1\n",
    "    note = notes[i%12]\n",
    "    name = note+str(octave)\n",
    "    note_dict[m] = name"
   ]
  },
  {
   "cell_type": "code",
   "execution_count": 225,
   "metadata": {
    "collapsed": false
   },
   "outputs": [],
   "source": [
    "def match_notes(peaks, notes=note_dict):\n",
    "    note_names = []\n",
    "    for p in peaks:\n",
    "        note_names.append(note_dict[min(note_dict.keys(), key=lambda k: abs(k-p))])\n",
    "    return peaks, note_names"
   ]
  },
  {
   "cell_type": "code",
   "execution_count": 228,
   "metadata": {
    "collapsed": false
   },
   "outputs": [
    {
     "data": {
      "text/plain": [
       "(array([  261.5628707 ,   439.25062252,   522.50074051,  1318.06436801]),\n",
       " ['C4', 'A4', 'C5', 'E6'])"
      ]
     },
     "execution_count": 228,
     "metadata": {},
     "output_type": "execute_result"
    },
    {
     "data": {
      "image/png": "[encoded data removed]",
      "text/plain": [
       "<matplotlib.figure.Figure at 0x11204eda0>"
      ]
     },
     "metadata": {},
     "output_type": "display_data"
    }
   ],
   "source": [
    "match_notes(find_peaks(*read_aiff('./sound_files/C4+A4_PopOrgan.aif'))[0])"
   ]
  },
  {
   "cell_type": "code",
   "execution_count": null,
   "metadata": {
    "collapsed": true
   },
   "outputs": [],
   "source": []
  }
 ],
 "metadata": {
  "anaconda-cloud": {},
  "kernelspec": {
   "display_name": "Python [seminar-env]",
   "language": "python",
   "name": "Python [seminar-env]"
  },
  "language_info": {
   "codemirror_mode": {
    "name": "ipython",
    "version": 3
   },
   "file_extension": ".py",
   "mimetype": "text/x-python",
   "name": "python",
   "nbconvert_exporter": "python",
   "pygments_lexer": "ipython3",
   "version": "3.5.2"
  }
 },
 "nbformat": 4,
 "nbformat_minor": 0
}
